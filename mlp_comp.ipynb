{
 "cells": [
  {
   "cell_type": "code",
   "execution_count": null,
   "id": "a1545ee3",
   "metadata": {},
   "outputs": [],
   "source": [
    "import numpy as np\n",
    "import matplotlib.pyplot as plt\n",
    "\n",
    "# Simple input data\n",
    "X = np.linspace(-1, 1, 50).reshape(-1, 1)\n",
    "\n",
    "# Simple forward pass\n",
    "def forward_pass(X, layers):\n",
    "    out = X\n",
    "    for i in range(layers):\n",
    "        out = np.tanh(out * 2 + 0.5)  # Simple weights (2) and bias (0.5)\n",
    "    return out\n",
    "\n",
    "# Compare with different hidden layers\n",
    "hidden_layers = [0, 1, 2, 3]\n",
    "\n",
    "plt.figure(figsize=(12, 3))\n",
    "for idx, hl in enumerate(hidden_layers, 1):\n",
    "    y_pred = forward_pass(X, hl)\n",
    "    plt.subplot(1, 4, idx)\n",
    "    plt.plot(X, y_pred, color='red')\n",
    "    plt.title(f\"{hl} Hidden Layer(s)\")\n",
    "    plt.ylim(-1.5, 1.5)\n",
    "\n",
    "plt.tight_layout()\n",
    "plt.show()\n",
    "\n"
   ]
  }
 ],
 "metadata": {
  "language_info": {
   "name": "python"
  }
 },
 "nbformat": 4,
 "nbformat_minor": 5
}
